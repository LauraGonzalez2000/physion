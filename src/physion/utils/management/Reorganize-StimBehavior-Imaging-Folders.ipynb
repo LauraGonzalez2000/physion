{
 "cells": [
  {
   "cell_type": "code",
   "execution_count": null,
   "id": "3a9fc395-7391-4164-a100-66f5777b2139",
   "metadata": {},
   "outputs": [],
   "source": [
    "import sys, os, shutil\n",
    "sys.path.append(os.path.join(os.path.expanduser('~'), 'work', 'physion', 'src'))\n",
    "import physion"
   ]
  },
  {
   "cell_type": "code",
   "execution_count": null,
   "id": "f8160a70-b7e7-422a-b2a5-2e5ecce5574b",
   "metadata": {},
   "outputs": [],
   "source": [
    "root_folder = '/Users/yann/DATA/NDNF-December-2022/'\n",
    "DATASET = physion.analysis.read_NWB.scan_folder_for_NWBfiles(root_folder)\n",
    "Imaging_Folder = os.path.join(root_folder, 'from', 'Imaging')\n",
    "StimBehavior_Folder = os.path.join(root_folder, 'from', 'Stim+Behavior')"
   ]
  },
  {
   "cell_type": "code",
   "execution_count": null,
   "id": "36a0f181-920c-48e6-bd8f-5003b5cdfe86",
   "metadata": {},
   "outputs": [],
   "source": [
    "for i, f in enumerate(DATASET['files']):\n",
    "    print('')\n",
    "    print('%i) file: %s' % (i+1, f))\n",
    "    data = physion.analysis.read_NWB.Data(f)\n",
    "    dateFolder = data.filename.split('-')[0]\n",
    "    timeFolder = data.filename[11:19]\n",
    "    imagingFolder = data.TSeries_folder\n",
    "    if os.path.isdir(os.path.join(Imaging_Folder, imagingFolder)):\n",
    "        print(' [ok] --> TSeries Folder')\n",
    "    else:\n",
    "        print(' [X] --> /!\\ MISSING TSeries FOLDER /!\\ ')\n",
    "\n",
    "    if os.path.isdir(os.path.join(StimBehavior_Folder, dateFolder, timeFolder)):\n",
    "        print(' [ok] --> Stim+Behavior Folder')\n",
    "    else:\n",
    "        print(' [X] --> /!\\ MISSING Stim+Behavior FOLDER /!\\ ')\n",
    "    "
   ]
  },
  {
   "cell_type": "code",
   "execution_count": null,
   "id": "df44f77e-5bb6-4017-953f-8b89eccd5696",
   "metadata": {},
   "outputs": [],
   "source": [
    "new_folder = os.path.join(root_folder, 'original')\n",
    "if not os.path.isdir(new_folder):\n",
    "    os.mkdir(new_folder)"
   ]
  },
  {
   "cell_type": "code",
   "execution_count": null,
   "id": "fa3873ab-e6c2-493a-9921-9c0730f6f6c3",
   "metadata": {},
   "outputs": [],
   "source": [
    "for i, f in enumerate(DATASET['files']):\n",
    "    print('')\n",
    "    print('%i) file: %s' % (i+1, f))\n",
    "    data = physion.analysis.read_NWB.Data(f)\n",
    "    dateFolder = data.filename.split('-')[0]\n",
    "    if not os.path.isdir(os.path.join(new_folder, dateFolder)):\n",
    "        os.mkdir(os.path.join(new_folder, dateFolder))\n",
    "    timeFolder = data.filename[11:19]\n",
    "    imagingFolder = data.TSeries_folder\n",
    "    # copy day folder of Stim+Behavior\n",
    "    shutil.copytree(os.path.join(StimBehavior_Folder, dateFolder, timeFolder),\n",
    "                    os.path.join(new_folder, dateFolder, timeFolder), dirs_exist_ok=True)\n",
    "    # then put the imaging in the right place\n",
    "    shutil.copytree(os.path.join(Imaging_Folder, imagingFolder),\n",
    "                    os.path.join(new_folder, dateFolder, timeFolder, imagingFolder), dirs_exist_ok=True)"
   ]
  }
 ],
 "metadata": {
  "kernelspec": {
   "display_name": "Python 3 (ipykernel)",
   "language": "python",
   "name": "python3"
  },
  "language_info": {
   "codemirror_mode": {
    "name": "ipython",
    "version": 3
   },
   "file_extension": ".py",
   "mimetype": "text/x-python",
   "name": "python",
   "nbconvert_exporter": "python",
   "pygments_lexer": "ipython3",
   "version": "3.8.3"
  }
 },
 "nbformat": 4,
 "nbformat_minor": 5
}
