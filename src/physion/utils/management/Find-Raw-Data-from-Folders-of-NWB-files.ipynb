{
 "cells": [
  {
   "cell_type": "markdown",
   "id": "f5d0ad3b-0614-40f9-a887-3a19d9c8f340",
   "metadata": {},
   "source": [
    "# Find Raw Data from Folders of NWB files\n",
    "\n",
    "### from a folder of NWB files like this:\n",
    "\n",
    "```\n",
    "nwb-files-folder/\n",
    "    arbitrary-subdirectory-structure/\n",
    "        2023_04_20-13-06-20.nwb\n",
    "        2023_04_20-15-26-40.nwb\n",
    "        2023_04_20-17-06-20.nwb\n",
    "        ...\n",
    "    folder2/\n",
    "        2024_04_20-13-06-20.nwb\n",
    "        ...\n",
    "    ...\n",
    "```\n",
    "\n",
    "### It will generate a `reformat.py` script, that you can execute in your raw data folder:\n",
    "\n",
    "\n",
    "```\n",
    "raw/\n",
    "    arbitrary-subdirectory-structure/\n",
    "        TSeries-04202023-001/\n",
    "        TSeries-04202023-002/\n",
    "        TSeries-04202023-003/\n",
    "        TSeries-04202023-004/\n",
    "        TSeries-04202023-005/\n",
    "        2023_04_20/13-06-20/\n",
    "        2023_04_20/14-28-40/\n",
    "        2023_04_20/15-26-40/\n",
    "        2023_04_20/17-06-20/\n",
    "        ...\n",
    "    folder2/\n",
    "        ...\n",
    "    ...\n",
    "```\n",
    "as:\n",
    "```\n",
    "python reformat.py ./raw/ REFORMATED_FOLDER\n",
    "```\n",
    "\n",
    "### to copy all the raw data related to the NWB files in a folder `to-keep/`\n",
    "\n",
    "```\n",
    "REFORMATED_FOLDER/\n",
    "        2023_04_20/\n",
    "            13-06-20/\n",
    "                TSeries-04202023-001/\n",
    "            15-26-40/\n",
    "                TSeries-04202023-003/\n",
    "            17-06-20/\n",
    "                TSeries-04202023-005/\n",
    "        2023_04_20/\n",
    "            ...\n",
    "```"
   ]
  },
  {
   "cell_type": "code",
   "execution_count": 1,
   "id": "e321fde5-d6b7-4512-92ad-5532d9ede8ba",
   "metadata": {},
   "outputs": [
    {
     "ename": "ImportError",
     "evalue": "/usr/lib/x86_64-linux-gnu/libgssapi_krb5.so.2: undefined symbol: krb5_ser_context_init, version krb5_3_MIT",
     "output_type": "error",
     "traceback": [
      "\u001b[0;31m---------------------------------------------------------------------------\u001b[0m",
      "\u001b[0;31mImportError\u001b[0m                               Traceback (most recent call last)",
      "Cell \u001b[0;32mIn[1], line 4\u001b[0m\n\u001b[1;32m      2\u001b[0m \u001b[38;5;28;01mimport\u001b[39;00m \u001b[38;5;21;01mnumpy\u001b[39;00m \u001b[38;5;28;01mas\u001b[39;00m \u001b[38;5;21;01mnp\u001b[39;00m\n\u001b[1;32m      3\u001b[0m sys\u001b[38;5;241m.\u001b[39mpath\u001b[38;5;241m.\u001b[39mappend(os\u001b[38;5;241m.\u001b[39mpath\u001b[38;5;241m.\u001b[39mjoin(os\u001b[38;5;241m.\u001b[39mpath\u001b[38;5;241m.\u001b[39mexpanduser(\u001b[38;5;124m'\u001b[39m\u001b[38;5;124m~\u001b[39m\u001b[38;5;124m'\u001b[39m), \u001b[38;5;124m'\u001b[39m\u001b[38;5;124mwork\u001b[39m\u001b[38;5;124m'\u001b[39m, \u001b[38;5;124m'\u001b[39m\u001b[38;5;124mphysion\u001b[39m\u001b[38;5;124m'\u001b[39m, \u001b[38;5;124m'\u001b[39m\u001b[38;5;124msrc\u001b[39m\u001b[38;5;124m'\u001b[39m))\n\u001b[0;32m----> 4\u001b[0m \u001b[38;5;28;01mimport\u001b[39;00m \u001b[38;5;21;01mphysion\u001b[39;00m\n\u001b[1;32m      6\u001b[0m \u001b[38;5;28;01mimport\u001b[39;00m \u001b[38;5;21;01mwarnings\u001b[39;00m\n\u001b[1;32m      7\u001b[0m warnings\u001b[38;5;241m.\u001b[39mfilterwarnings(\u001b[38;5;124m\"\u001b[39m\u001b[38;5;124mignore\u001b[39m\u001b[38;5;124m\"\u001b[39m) \u001b[38;5;66;03m# disable the UserWarning from pynwb (arrays are not well oriented)\u001b[39;00m\n",
      "File \u001b[0;32m~/miniconda3/lib/python3.11/site-packages/physion/__init__.py:1\u001b[0m\n\u001b[0;32m----> 1\u001b[0m \u001b[38;5;28;01mfrom\u001b[39;00m \u001b[38;5;21;01m.\u001b[39;00m \u001b[38;5;28;01mimport\u001b[39;00m analysis, utils, dataviz, assembling, electrophy,\\\n\u001b[1;32m      2\u001b[0m         facemotion, gui, imaging, intrinsic, pupil, acquisition,\\\n\u001b[1;32m      3\u001b[0m         visual_stim\n",
      "File \u001b[0;32m~/miniconda3/lib/python3.11/site-packages/physion/acquisition/__init__.py:1\u001b[0m\n\u001b[0;32m----> 1\u001b[0m \u001b[38;5;28;01mfrom\u001b[39;00m \u001b[38;5;21;01m.\u001b[39;00m \u001b[38;5;28;01mimport\u001b[39;00m settings, tools, run, recordings\n\u001b[1;32m      3\u001b[0m MODALITIES \u001b[38;5;241m=\u001b[39m [\u001b[38;5;124m'\u001b[39m\u001b[38;5;124mLocomotion\u001b[39m\u001b[38;5;124m'\u001b[39m,\n\u001b[1;32m      4\u001b[0m               \u001b[38;5;124m'\u001b[39m\u001b[38;5;124mFaceCamera\u001b[39m\u001b[38;5;124m'\u001b[39m,\n\u001b[1;32m      5\u001b[0m               \u001b[38;5;124m'\u001b[39m\u001b[38;5;124mRigCamera\u001b[39m\u001b[38;5;124m'\u001b[39m,\n\u001b[0;32m   (...)\u001b[0m\n\u001b[1;32m      9\u001b[0m               \u001b[38;5;124m'\u001b[39m\u001b[38;5;124mCaImaging\u001b[39m\u001b[38;5;124m'\u001b[39m,\n\u001b[1;32m     10\u001b[0m               \u001b[38;5;124m'\u001b[39m\u001b[38;5;124monlyDemo\u001b[39m\u001b[38;5;124m'\u001b[39m]\n",
      "File \u001b[0;32m~/miniconda3/lib/python3.11/site-packages/physion/acquisition/run.py:14\u001b[0m\n\u001b[1;32m     11\u001b[0m \u001b[38;5;28;01mfrom\u001b[39;00m \u001b[38;5;21;01mphysion\u001b[39;00m\u001b[38;5;21;01m.\u001b[39;00m\u001b[38;5;21;01macquisition\u001b[39;00m \u001b[38;5;28;01mimport\u001b[39;00m recordings\n\u001b[1;32m     13\u001b[0m \u001b[38;5;28;01mfrom\u001b[39;00m \u001b[38;5;21;01mphysion\u001b[39;00m\u001b[38;5;21;01m.\u001b[39;00m\u001b[38;5;21;01mvisual_stim\u001b[39;00m\u001b[38;5;21;01m.\u001b[39;00m\u001b[38;5;21;01mmain\u001b[39;00m \u001b[38;5;28;01mimport\u001b[39;00m build_stim \u001b[38;5;28;01mas\u001b[39;00m build_VisualStim\n\u001b[0;32m---> 14\u001b[0m \u001b[38;5;28;01mfrom\u001b[39;00m \u001b[38;5;21;01mphysion\u001b[39;00m\u001b[38;5;21;01m.\u001b[39;00m\u001b[38;5;21;01mvisual_stim\u001b[39;00m\u001b[38;5;21;01m.\u001b[39;00m\u001b[38;5;21;01mshow\u001b[39;00m \u001b[38;5;28;01mimport\u001b[39;00m init_stimWindow\n\u001b[1;32m     16\u001b[0m \u001b[38;5;28;01mtry\u001b[39;00m:\n\u001b[1;32m     17\u001b[0m     \u001b[38;5;28;01mfrom\u001b[39;00m \u001b[38;5;21;01mphysion\u001b[39;00m\u001b[38;5;21;01m.\u001b[39;00m\u001b[38;5;21;01mhardware\u001b[39;00m\u001b[38;5;21;01m.\u001b[39;00m\u001b[38;5;21;01mNIdaq\u001b[39;00m\u001b[38;5;21;01m.\u001b[39;00m\u001b[38;5;21;01mmain\u001b[39;00m \u001b[38;5;28;01mimport\u001b[39;00m Acquisition\n",
      "File \u001b[0;32m~/miniconda3/lib/python3.11/site-packages/physion/visual_stim/show.py:2\u001b[0m\n\u001b[1;32m      1\u001b[0m \u001b[38;5;28;01mimport\u001b[39;00m \u001b[38;5;21;01mos\u001b[39;00m\n\u001b[0;32m----> 2\u001b[0m \u001b[38;5;28;01mfrom\u001b[39;00m \u001b[38;5;21;01mPyQt5\u001b[39;00m \u001b[38;5;28;01mimport\u001b[39;00m QtWidgets, QtCore, QtMultimedia, QtMultimediaWidgets\n\u001b[1;32m      4\u001b[0m \u001b[38;5;28;01mdef\u001b[39;00m \u001b[38;5;21minit_stimWindow\u001b[39m(\u001b[38;5;28mself\u001b[39m, \n\u001b[1;32m      5\u001b[0m                     demo\u001b[38;5;241m=\u001b[39m\u001b[38;5;28;01mFalse\u001b[39;00m):\n\u001b[1;32m      7\u001b[0m \u001b[38;5;250m    \u001b[39m\u001b[38;5;124;03m\"\"\"\u001b[39;00m\n\u001b[1;32m      8\u001b[0m \u001b[38;5;124;03m    \"\"\"\u001b[39;00m\n",
      "\u001b[0;31mImportError\u001b[0m: /usr/lib/x86_64-linux-gnu/libgssapi_krb5.so.2: undefined symbol: krb5_ser_context_init, version krb5_3_MIT"
     ]
    }
   ],
   "source": [
    "import sys, os\n",
    "import numpy as np\n",
    "sys.path.append(os.path.join(os.path.expanduser('~'), 'work', 'physion', 'src'))\n",
    "import physion\n",
    "\n",
    "import warnings\n",
    "warnings.filterwarnings(\"ignore\") # disable the UserWarning from pynwb (arrays are not well oriented)"
   ]
  },
  {
   "cell_type": "code",
   "execution_count": 8,
   "id": "5f5edcfd-6b7d-4a67-8e76-bb7e3788212c",
   "metadata": {},
   "outputs": [],
   "source": [
    "\n",
    "def find_folder_infos(datafolder, \n",
    "                      subfolder=None,\n",
    "                      Nmax=1000,\n",
    "                      verbose=True):\n",
    "\n",
    "    DATASET = physion.analysis.read_NWB.scan_folder_for_NWBfiles(datafolder)\n",
    "    \n",
    "    if subfolder is not None:\n",
    "        Files = np.sort([f for f in DATASET['files'] if (subfolder in f)])\n",
    "    else:\n",
    "        Files = np.sort(DATASET['files'])\n",
    "\n",
    "    TSeries, DayFolders, TimeFolders = [], [], []\n",
    "    for i, filename in enumerate(Files[:Nmax]):\n",
    "\n",
    "        if verbose:\n",
    "            print('- %s' % filename)\n",
    "        data = physion.analysis.read_NWB.Data(filename, verbose=verbose)\n",
    "\n",
    "        Description = str(data.nwbfile.processing['ophys'].description)\n",
    "        # print('     * %s' % Description)\n",
    "        TSeries.append('TSeries-'+Description.split('TSeries-')[2].split('/')[0])\n",
    "        if verbose:\n",
    "            print('     * TSeries-folder: %s' % TSeries[-1])\n",
    "        DayFolders.append(str(data.nwbfile.identifier)[:10])\n",
    "        TimeFolders.append(str(data.nwbfile.identifier)[11:])\n",
    "        if verbose:\n",
    "            print('     * Day-folder: %s' % DayFolders[-1])\n",
    "            print('     * Time-folder: %s' % TimeFolders[-1])\n",
    "\n",
    "    return TSeries, DayFolders, TimeFolders\n",
    "\n",
    "def find_subfolder(folder_name, root_folder,\n",
    "                   day_folder=None):\n",
    "    if day_folder is not None:\n",
    "        List = [f[0] for f in os.walk(root_folder)\\\n",
    "                if ((f[0].split(os.path.sep)[-1]==folder_name) and (day_folder in f[0]))]\n",
    "    else:\n",
    "        List = [f[0] for f in os.walk(root_folder)\\\n",
    "                        if f[0].split(os.path.sep)[-1]==folder_name]\n",
    "    if len(List)>0:\n",
    "        return List[0]\n",
    "    else:\n",
    "        return None\n",
    "       \n"
   ]
  },
  {
   "cell_type": "code",
   "execution_count": 3,
   "id": "8de53d32-f1d0-4a7f-bcc6-4ae730ccd042",
   "metadata": {},
   "outputs": [],
   "source": [
    "datafolder = os.path.join(os.path.expanduser('~') ,'CURATED', 'SST-WT-NR1-GluN3-2023')\n",
    "root_folder = os.path.join(os.path.expanduser('~') , 'DATA', 'TADDY')\n",
    "new_folder = 'to-keep'\n",
    "# TSeries, DayFolders, TimeFolders = find_folder_infos(datafolder)\n",
    "#script = build_bash_script(datafolder, new_folder, Nmax=1000, verbose=False)"
   ]
  },
  {
   "cell_type": "code",
   "execution_count": 4,
   "id": "7d382a1e",
   "metadata": {},
   "outputs": [
    {
     "name": "stdout",
     "output_type": "stream",
     "text": [
      "inspecting the folder \"/home/yann.zerlaut/CURATED/SST-WT-NR1-GluN3-2023\" [...]\n",
      " -> found n=127 datafiles (in 152.7s) \n"
     ]
    },
    {
     "ename": "NameError",
     "evalue": "name 'np' is not defined",
     "output_type": "error",
     "traceback": [
      "\u001b[0;31m---------------------------------------------------------------------------\u001b[0m",
      "\u001b[0;31mNameError\u001b[0m                                 Traceback (most recent call last)",
      "Cell \u001b[0;32mIn[4], line 4\u001b[0m\n\u001b[1;32m      2\u001b[0m datafolder \u001b[38;5;241m=\u001b[39m os\u001b[38;5;241m.\u001b[39mpath\u001b[38;5;241m.\u001b[39mjoin(os\u001b[38;5;241m.\u001b[39mpath\u001b[38;5;241m.\u001b[39mexpanduser(\u001b[38;5;124m'\u001b[39m\u001b[38;5;124m~\u001b[39m\u001b[38;5;124m'\u001b[39m) ,\u001b[38;5;124m'\u001b[39m\u001b[38;5;124mCURATED\u001b[39m\u001b[38;5;124m'\u001b[39m, \u001b[38;5;124m'\u001b[39m\u001b[38;5;124mSST-WT-NR1-GluN3-2023\u001b[39m\u001b[38;5;124m'\u001b[39m)\n\u001b[1;32m      3\u001b[0m \u001b[38;5;66;03m# find names of subfolders to look for:\u001b[39;00m\n\u001b[0;32m----> 4\u001b[0m TSeries, DayFolders, TimeFolders \u001b[38;5;241m=\u001b[39m \u001b[43mfind_folder_infos\u001b[49m\u001b[43m(\u001b[49m\u001b[43mdatafolder\u001b[49m\u001b[43m,\u001b[49m\u001b[43m \u001b[49m\n\u001b[1;32m      5\u001b[0m \u001b[43m                                                     \u001b[49m\u001b[43mverbose\u001b[49m\u001b[38;5;241;43m=\u001b[39;49m\u001b[38;5;28;43;01mFalse\u001b[39;49;00m\u001b[43m)\u001b[49m\n",
      "Cell \u001b[0;32mIn[2], line 11\u001b[0m, in \u001b[0;36mfind_folder_infos\u001b[0;34m(datafolder, subfolder, Nmax, verbose)\u001b[0m\n\u001b[1;32m      9\u001b[0m     Files \u001b[38;5;241m=\u001b[39m np\u001b[38;5;241m.\u001b[39msort([f \u001b[38;5;28;01mfor\u001b[39;00m f \u001b[38;5;129;01min\u001b[39;00m DATASET[\u001b[38;5;124m'\u001b[39m\u001b[38;5;124mfiles\u001b[39m\u001b[38;5;124m'\u001b[39m] \u001b[38;5;28;01mif\u001b[39;00m (subfolder \u001b[38;5;129;01min\u001b[39;00m f)])\n\u001b[1;32m     10\u001b[0m \u001b[38;5;28;01melse\u001b[39;00m:\n\u001b[0;32m---> 11\u001b[0m     Files \u001b[38;5;241m=\u001b[39m \u001b[43mnp\u001b[49m\u001b[38;5;241m.\u001b[39msort(DATASET[\u001b[38;5;124m'\u001b[39m\u001b[38;5;124mfiles\u001b[39m\u001b[38;5;124m'\u001b[39m])\n\u001b[1;32m     13\u001b[0m TSeries, DayFolders, TimeFolders \u001b[38;5;241m=\u001b[39m [], [], []\n\u001b[1;32m     14\u001b[0m \u001b[38;5;28;01mfor\u001b[39;00m i, filename \u001b[38;5;129;01min\u001b[39;00m \u001b[38;5;28menumerate\u001b[39m(Files[:Nmax]):\n",
      "\u001b[0;31mNameError\u001b[0m: name 'np' is not defined"
     ]
    }
   ],
   "source": [
    "# folder where we look for NWB files\n",
    "datafolder = os.path.join(os.path.expanduser('~') ,'CURATED', 'SST-WT-NR1-GluN3-2023')\n",
    "# find names of subfolders to look for:\n",
    "TSeries, DayFolders, TimeFolders = find_folder_infos(datafolder, \n",
    "                                                     verbose=False)"
   ]
  },
  {
   "cell_type": "code",
   "execution_count": 9,
   "id": "7bd9795f",
   "metadata": {},
   "outputs": [
    {
     "name": "stdout",
     "output_type": "stream",
     "text": [
      "inspecting the folder \"/home/yann.zerlaut/DATA/TADDY\" [...]\n",
      " -> found n=507 datafiles (in 527.4s) \n"
     ]
    }
   ],
   "source": [
    "# folder where we look for NWB files\n",
    "datafolder = os.path.join(os.path.expanduser('~') , 'DATA', 'TADDY')\n",
    "# find names of subfolders to look for:\n",
    "TSeries, DayFolders, TimeFolders = find_folder_infos(datafolder, \n",
    "                                                     subfolder='Assembled',\n",
    "                                                     verbose=False)"
   ]
  },
  {
   "cell_type": "code",
   "execution_count": null,
   "id": "e36844f2",
   "metadata": {},
   "outputs": [],
   "source": [
    "script = \"\"\"\n",
    "import os, sys, shutil\n",
    "\n",
    "root_folder = \"/volume1/Taddy/GluN3_V1_InVivo_Imaging/processed/\"\n",
    "root_folder2 = \"/volume1/Taddy/GluN3_V1_InVivo_Imaging/raw/\"\n",
    "\n",
    "target_folder = \"/volume1/Taddy/SST-WT-Glun1KO-GluN3KO-2023\"\n",
    "if not os.path.isdir(target_folder):\n",
    "    pass\n",
    "    # os.mkdir(target_folder)\n",
    "\n",
    "def find_subfolder(folder_name, root_folder,\n",
    "                   day_folder=None):\n",
    "    if day_folder is not None:\n",
    "        List = [f[0] for f in os.walk(root_folder)\\\n",
    "                if (f[0].split(os.path.sep)[-1]==folder_name) and (day_folder in f[0])]\n",
    "    else:\n",
    "        List = [f[0] for f in os.walk(root_folder)\\\n",
    "                        if f[0].split(os.path.sep)[-1]==folder_name]\n",
    "    if len(List)>0:\n",
    "        return List[0]\n",
    "    else:\n",
    "        return None\n",
    "        \n",
    "\"\"\"\n",
    "\n",
    "n=0\n",
    "for i, d, t in zip(TSeries, DayFolders, TimeFolders):\n",
    "    n+=1\n",
    "    script += \"\"\"\n",
    "print('- %i) : %s %s')\n",
    "\"\"\" % (n, d, t)\n",
    "    script += \"\"\"\n",
    "imaging = find_subfolder(\"%s\", root_folder)\n",
    "if imaging is None:\n",
    "    imaging = find_subfolder(\"%s\", root_folder2)\n",
    "if imaging is None:\n",
    "    print(' !! NOT FOUND ', '%s')\n",
    "else:\n",
    "    print(imaging)\n",
    "\"\"\" % (i, i, i)\n",
    "    script += \"\"\"\n",
    "timeF = find_subfolder(\"%s\", root_folder, day_folder=\"%s\")\n",
    "print(timeF)\n",
    "print('')\n",
    "\"\"\" % (t, d)\n",
    "#print(script)"
   ]
  },
  {
   "cell_type": "code",
   "execution_count": null,
   "id": "58275eb4",
   "metadata": {},
   "outputs": [],
   "source": [
    "exec(script)"
   ]
  },
  {
   "cell_type": "code",
   "execution_count": 6,
   "id": "2ca7f1af-8a30-4205-b148-51a464115426",
   "metadata": {},
   "outputs": [
    {
     "ename": "NameError",
     "evalue": "name 'script' is not defined",
     "output_type": "error",
     "traceback": [
      "\u001b[0;31m---------------------------------------------------------------------------\u001b[0m",
      "\u001b[0;31mNameError\u001b[0m                                 Traceback (most recent call last)",
      "Cell \u001b[0;32mIn[6], line 4\u001b[0m\n\u001b[1;32m      2\u001b[0m script_name \u001b[38;5;241m=\u001b[39m \u001b[38;5;124m'\u001b[39m\u001b[38;5;124mrebuild.py\u001b[39m\u001b[38;5;124m'\u001b[39m\n\u001b[1;32m      3\u001b[0m \u001b[38;5;28;01mwith\u001b[39;00m \u001b[38;5;28mopen\u001b[39m(script_name, \u001b[38;5;124m'\u001b[39m\u001b[38;5;124mw\u001b[39m\u001b[38;5;124m'\u001b[39m) \u001b[38;5;28;01mas\u001b[39;00m f:\n\u001b[0;32m----> 4\u001b[0m     f\u001b[38;5;241m.\u001b[39mwrite(\u001b[43mscript\u001b[49m)\n",
      "\u001b[0;31mNameError\u001b[0m: name 'script' is not defined"
     ]
    }
   ],
   "source": [
    "# write as a bash script\n",
    "script_name = 'rebuild.py'\n",
    "with open(script_name, 'w') as f:\n",
    "    f.write(script)"
   ]
  },
  {
   "cell_type": "code",
   "execution_count": 5,
   "id": "7c9859c5-b5b9-4a87-8895-0ede0e1e07b1",
   "metadata": {},
   "outputs": [
    {
     "name": "stdout",
     "output_type": "stream",
     "text": [
      "cat: rebuild.py: No such file or directory\n"
     ]
    }
   ],
   "source": [
    "cat rebuild.py"
   ]
  },
  {
   "cell_type": "code",
   "execution_count": null,
   "id": "cc3c8504-f371-4e23-a030-f6949149c8fc",
   "metadata": {},
   "outputs": [],
   "source": []
  }
 ],
 "metadata": {
  "kernelspec": {
   "display_name": "Python 3 (ipykernel)",
   "language": "python",
   "name": "python3"
  },
  "language_info": {
   "codemirror_mode": {
    "name": "ipython",
    "version": 3
   },
   "file_extension": ".py",
   "mimetype": "text/x-python",
   "name": "python",
   "nbconvert_exporter": "python",
   "pygments_lexer": "ipython3",
   "version": "3.11.9"
  }
 },
 "nbformat": 4,
 "nbformat_minor": 5
}
