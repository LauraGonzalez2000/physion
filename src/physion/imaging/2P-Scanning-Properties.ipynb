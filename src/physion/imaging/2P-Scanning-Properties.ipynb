{
 "cells": [
  {
   "cell_type": "markdown",
   "id": "41f99888-cb3a-4105-8d28-72f482ca931c",
   "metadata": {},
   "source": [
    "# Scanning Properties of the 2-Photon Setup"
   ]
  },
  {
   "cell_type": "code",
   "execution_count": 6,
   "id": "29ca459a-bf5b-4b29-85df-8caa813b3176",
   "metadata": {},
   "outputs": [],
   "source": [
    "import numpy as np\n",
    "import sys, os\n",
    "sys.path.append('../utils/')\n",
    "import plot_tools as pt\n",
    "import matplotlib.pylab as plt"
   ]
  },
  {
   "cell_type": "markdown",
   "id": "fc0636a9-6cd4-4287-bf73-b035eaa207c2",
   "metadata": {},
   "source": [
    "### --> Performing 3 successive recordings of the 2-Photon Scan to look at reliability/regularity"
   ]
  },
  {
   "cell_type": "code",
   "execution_count": 10,
   "id": "6a3c2838-5300-4397-aeb5-d049e38f8e73",
   "metadata": {},
   "outputs": [],
   "source": [
    "# load data\n",
    "root_folder = os.path.join(os.path.expanduser('~'), 'UNPROCESSED', '2023_12_12')\n",
    "recs = ['18-02-34', '18-10-37', '18-06-57']\n",
    "data = []\n",
    "for i, rec in enumerate(recs):\n",
    "    NIdaq = np.load(os.path.join(root_folder, rec, 'NIdaq.npy'), allow_pickle=True).item()\n",
    "    data.append({'scan':NIdaq['analog'][0], 't':NIdaq['dt']*np.arange(len(NIdaq['analog'][0]))})"
   ]
  },
  {
   "cell_type": "code",
   "execution_count": 11,
   "id": "ea6dcd45-471d-4e42-a76f-1dd1824118a3",
   "metadata": {},
   "outputs": [],
   "source": [
    "# plot data"
   ]
  },
  {
   "cell_type": "code",
   "execution_count": null,
   "id": "01a896c0-9aa9-482c-8e8e-18cb9fc5799c",
   "metadata": {},
   "outputs": [],
   "source": []
  }
 ],
 "metadata": {
  "kernelspec": {
   "display_name": "Python 3 (ipykernel)",
   "language": "python",
   "name": "python3"
  },
  "language_info": {
   "codemirror_mode": {
    "name": "ipython",
    "version": 3
   },
   "file_extension": ".py",
   "mimetype": "text/x-python",
   "name": "python",
   "nbconvert_exporter": "python",
   "pygments_lexer": "ipython3",
   "version": "3.11.6"
  }
 },
 "nbformat": 4,
 "nbformat_minor": 5
}
