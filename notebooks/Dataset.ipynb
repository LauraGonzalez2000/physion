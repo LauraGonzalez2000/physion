{
 "cells": [
  {
   "cell_type": "code",
   "execution_count": null,
   "id": "56982306-84f9-409c-8a0c-97ed6a9cfd66",
   "metadata": {},
   "outputs": [],
   "source": [
    "import os\n",
    "import pandas as pd\n",
    "import sys\n",
    "sys.path.append('../src')\n",
    "import physion"
   ]
  },
  {
   "cell_type": "code",
   "execution_count": null,
   "id": "a288c521-a146-4c47-b6fc-efaa410f5aae",
   "metadata": {},
   "outputs": [],
   "source": [
    "filename = os.path.join(os.path.expanduser('~'), 'DATA', 'Cibele', 'PV_BB_V1', 'PV_BB.xlsx')\n",
    "dataset = physion.assembling.dataset.read_dataset_spreadsheet(filename)\n",
    "dataset[['mouse', 'day', 'time', 'protocol', 'FOV']]"
   ]
  }
 ],
 "metadata": {
  "jupytext": {
   "formats": "ipynb,auto:percent"
  },
  "kernelspec": {
   "display_name": "Python 3 (ipykernel)",
   "language": "python",
   "name": "python3"
  },
  "language_info": {
   "codemirror_mode": {
    "name": "ipython",
    "version": 3
   },
   "file_extension": ".py",
   "mimetype": "text/x-python",
   "name": "python",
   "nbconvert_exporter": "python",
   "pygments_lexer": "ipython3",
   "version": "3.11.6"
  }
 },
 "nbformat": 4,
 "nbformat_minor": 5
}
