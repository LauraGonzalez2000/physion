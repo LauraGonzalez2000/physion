{
 "cells": [
  {
   "cell_type": "markdown",
   "id": "f4533960",
   "metadata": {},
   "source": [
    "# Trial Averaging"
   ]
  },
  {
   "cell_type": "markdown",
   "id": "bec354eb",
   "metadata": {},
   "source": [
    "## Load data"
   ]
  },
  {
   "cell_type": "code",
   "execution_count": null,
   "id": "9fae844b",
   "metadata": {},
   "outputs": [],
   "source": [
    "import os, sys\n",
    "filename = os.path.join(os.path.expanduser('~'), 'Desktop', '2024_10_07-17-18-53.nwb')\n",
    "\n",
    "sys.path.append(os.path.join(os.path.expanduser('~'), 'work', 'physion', 'src'))\n",
    "import physion\n",
    "data = physion.analysis.read_NWB.Data(filename,\n",
    "                                     verbose=False)"
   ]
  },
  {
   "cell_type": "markdown",
   "id": "6fa29d89",
   "metadata": {},
   "source": [
    "## Build episodes (stimulus-aligned)"
   ]
  },
  {
   "cell_type": "code",
   "execution_count": null,
   "id": "be74e95e",
   "metadata": {},
   "outputs": [],
   "source": [
    "episodes = physion.analysis.process_NWB.EpisodeData(data, \n",
    "                                                    quantities=['dFoF'],\n",
    "                                                    protocol_id=0)"
   ]
  },
  {
   "cell_type": "markdown",
   "id": "efa01398",
   "metadata": {},
   "source": [
    "## Plot properties"
   ]
  },
  {
   "cell_type": "code",
   "execution_count": null,
   "id": "e0a91a73",
   "metadata": {},
   "outputs": [],
   "source": [
    "plot_props = dict(column_key='angle',\n",
    "                  with_annotation=True,\n",
    "                  figsize=(9,1.8))"
   ]
  },
  {
   "cell_type": "markdown",
   "id": "0d0dbb56",
   "metadata": {},
   "source": [
    "## Average over all ROIs "
   ]
  },
  {
   "cell_type": "code",
   "execution_count": null,
   "id": "9ad24e97",
   "metadata": {},
   "outputs": [],
   "source": [
    "fig, AX = physion.dataviz.episodes.trial_average.plot(episodes,\n",
    "                                                      roiIndices='all',\n",
    "                                                      **plot_props)"
   ]
  },
  {
   "cell_type": "markdown",
   "id": "0d931e4b",
   "metadata": {},
   "source": [
    "## Single ROIs "
   ]
  },
  {
   "cell_type": "code",
   "execution_count": null,
   "id": "0bac6940",
   "metadata": {},
   "outputs": [],
   "source": [
    "fig, AX = physion.dataviz.episodes.trial_average.plot(episodes,\n",
    "                                                      roiIndex=0,\n",
    "                                                      **plot_props)"
   ]
  },
  {
   "cell_type": "code",
   "execution_count": null,
   "id": "28bfc48b",
   "metadata": {},
   "outputs": [],
   "source": [
    "fig, AX = physion.dataviz.episodes.trial_average.plot(episodes,\n",
    "                                                      roiIndex=2,\n",
    "                                                      **plot_props)"
   ]
  }
 ],
 "metadata": {
  "jupytext": {
   "formats": "ipynb,py:percent"
  },
  "kernelspec": {
   "display_name": "Python 3 (ipykernel)",
   "language": "python",
   "name": "python3"
  }
 },
 "nbformat": 4,
 "nbformat_minor": 5
}
