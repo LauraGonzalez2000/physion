{
 "cells": [
  {
   "cell_type": "markdown",
   "id": "a7008967-e31d-4f51-9f76-8b2ed4a41c3d",
   "metadata": {},
   "source": [
    "# Session Summary "
   ]
  },
  {
   "cell_type": "code",
   "execution_count": 1,
   "id": "759e26bd-442a-41eb-a6cd-2018569d24fd",
   "metadata": {},
   "outputs": [],
   "source": [
    "filename = '/Users/yann/ASSEMBLE/2024_03_08-10-59-53.nwb'"
   ]
  },
  {
   "cell_type": "markdown",
   "id": "a5b04de8-f693-457e-8bbc-6ede69f4e328",
   "metadata": {},
   "source": [
    "## Load Datafile"
   ]
  },
  {
   "cell_type": "code",
   "execution_count": null,
   "id": "5fa16b07-5ccb-452a-b556-43d1e932940e",
   "metadata": {},
   "outputs": [],
   "source": [
    "import physion, os\n",
    "data = physion.analysis.read_NWB.Data(filename,\n",
    "                                      verbose=False)"
   ]
  },
  {
   "cell_type": "markdown",
   "id": "7706e2cc-cd12-4721-9b2d-ff3170cec49e",
   "metadata": {},
   "source": [
    "## Show Field of View"
   ]
  },
  {
   "cell_type": "code",
   "execution_count": null,
   "id": "206b0304-3518-4ed4-a7f4-41f40efc240d",
   "metadata": {},
   "outputs": [],
   "source": [
    "figFOV, AX = physion.utils.plot_tools.figure(axes=(3,1), figsize=(1.4,3), wspace=0.15)\n",
    "\n",
    "from physion.dataviz.imaging import show_CaImaging_FOV\n",
    "#\n",
    "show_CaImaging_FOV(data, key='meanImg', \n",
    "                   NL=2, # non-linearity to normalize image\n",
    "                   ax=AX[0])\n",
    "show_CaImaging_FOV(data, key='max_proj', \n",
    "                   NL=2, # non-linearity to normalize image\n",
    "                   ax=AX[1])\n",
    "show_CaImaging_FOV(data, key='meanImg', \n",
    "                   NL=2,\n",
    "                   roiIndices=range(data.nROIs), \n",
    "                   ax=AX[2])\n",
    "# save on desktop\n",
    "#figFOV.savefig(os.path.join(os.path.expanduser('~'), 'Desktop', 'FOV.png'))"
   ]
  },
  {
   "cell_type": "markdown",
   "id": "9acbe27e-cbf1-4644-8819-e4fab5861e7e",
   "metadata": {},
   "source": [
    "## Raw Data -- Full View "
   ]
  },
  {
   "cell_type": "code",
   "execution_count": null,
   "id": "21c373f1-ce0f-48fa-a278-829002cca345",
   "metadata": {},
   "outputs": [],
   "source": [
    "settings = physion.dataviz.raw.find_default_plot_settings(data, with_subsampling=True)\n",
    "# settings['CaImaging']['roiIndices'] = [1, 13, 0, 34, 5, 6, 8]\n",
    "figRaw, _ = physion.dataviz.raw.plot(data, tlim=[0,data.tlim[1]], settings=settings)"
   ]
  },
  {
   "cell_type": "markdown",
   "id": "2554fb4d-6b4d-4427-8663-bc637285115f",
   "metadata": {},
   "source": [
    "## Raw Data -- Zoomed View "
   ]
  },
  {
   "cell_type": "code",
   "execution_count": null,
   "id": "ebe50df7-63b3-47ce-9243-43d32852ced9",
   "metadata": {},
   "outputs": [],
   "source": [
    "zoom = [100,160] \n",
    "settings = physion.dataviz.raw.find_default_plot_settings(data)\n",
    "# settings['CaImaging']['roiIndices'] = [1, 13, 0, 34, 5, 6, 8]\n",
    "figRaw, _ = physion.dataviz.raw.plot(data, tlim=zoom, settings=settings)"
   ]
  },
  {
   "cell_type": "code",
   "execution_count": null,
   "id": "14f0a3f8-771e-4203-8b8f-9402ea361c31",
   "metadata": {},
   "outputs": [],
   "source": [
    "zoom = [620,680] \n",
    "settings = physion.dataviz.raw.find_default_plot_settings(data)\n",
    "# settings['CaImaging']['roiIndices'] = [1, 13, 0, 34, 5, 6, 8]\n",
    "figRaw, _ = physion.dataviz.raw.plot(data, tlim=zoom, settings=settings)"
   ]
  },
  {
   "cell_type": "markdown",
   "id": "05ca95bc-26dc-4ea3-89e6-723273c2d870",
   "metadata": {},
   "source": [
    "## Raw Data -- Full View -- All ROIs"
   ]
  },
  {
   "cell_type": "code",
   "execution_count": null,
   "id": "f87163e7-1a88-414c-aeed-95904fffb067",
   "metadata": {},
   "outputs": [],
   "source": [
    "from physion.dataviz.raw import plot as plot_raw, find_default_plot_settings\n",
    "settings = physion.dataviz.raw.find_default_plot_settings(data, with_subsampling=True)\n",
    "settings['CaImaging']['roiIndices'] = range(data.nROIs)\n",
    "settings['CaImaging']['fig_fraction']=10.\n",
    "figRaw, _ = plot_raw(data, figsize=(9,15),\n",
    "                     tlim=[0,data.tlim[1]], settings=settings)"
   ]
  },
  {
   "cell_type": "code",
   "execution_count": null,
   "id": "1ff765f4-19c0-4e5b-bbe6-5846a4fab424",
   "metadata": {},
   "outputs": [],
   "source": [
    "## "
   ]
  },
  {
   "cell_type": "code",
   "execution_count": null,
   "id": "7de9f74d-7e87-41a0-b129-7607e52ff430",
   "metadata": {},
   "outputs": [],
   "source": []
  }
 ],
 "metadata": {
  "jupytext": {
   "formats": "ipynb,auto:percent"
  },
  "kernelspec": {
   "display_name": "Python 3 (ipykernel)",
   "language": "python",
   "name": "python3"
  },
  "language_info": {
   "codemirror_mode": {
    "name": "ipython",
    "version": 3
   },
   "file_extension": ".py",
   "mimetype": "text/x-python",
   "name": "python",
   "nbconvert_exporter": "python",
   "pygments_lexer": "ipython3",
   "version": "3.11.6"
  }
 },
 "nbformat": 4,
 "nbformat_minor": 5
}
