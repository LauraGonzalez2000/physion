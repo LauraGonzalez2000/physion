{
 "cells": [
  {
   "cell_type": "markdown",
   "id": "e626131d",
   "metadata": {},
   "source": [
    "# Session Summary "
   ]
  },
  {
   "cell_type": "code",
   "execution_count": null,
   "id": "16a1f98a",
   "metadata": {},
   "outputs": [],
   "source": [
    "filename = '/Users/yann/ASSEMBLE/2024_03_08-10-59-53.nwb'"
   ]
  },
  {
   "cell_type": "markdown",
   "id": "8c7efb78",
   "metadata": {},
   "source": [
    "## Load Datafile"
   ]
  },
  {
   "cell_type": "code",
   "execution_count": null,
   "id": "dbde8fef",
   "metadata": {},
   "outputs": [],
   "source": [
    "import physion, os\n",
    "data = physion.analysis.read_NWB.Data(filename,\n",
    "                                      verbose=False)"
   ]
  },
  {
   "cell_type": "markdown",
   "id": "309f4bbe",
   "metadata": {},
   "source": [
    "## Show Field of View"
   ]
  },
  {
   "cell_type": "code",
   "execution_count": null,
   "id": "5aedb5cd",
   "metadata": {},
   "outputs": [],
   "source": [
    "figFOV, AX = physion.utils.plot_tools.figure(axes=(3,1), figsize=(1.4,3), wspace=0.15)\n",
    "\n",
    "from physion.dataviz.imaging import show_CaImaging_FOV\n",
    "#\n",
    "show_CaImaging_FOV(data, key='meanImg', \n",
    "                   NL=2, # non-linearity to normalize image\n",
    "                   ax=AX[0])\n",
    "show_CaImaging_FOV(data, key='max_proj', \n",
    "                   NL=2, # non-linearity to normalize image\n",
    "                   ax=AX[1])\n",
    "show_CaImaging_FOV(data, key='meanImg', \n",
    "                   NL=2,\n",
    "                   roiIndices=range(data.nROIs), \n",
    "                   ax=AX[2])\n",
    "# save on desktop\n",
    "#figFOV.savefig(os.path.join(os.path.expanduser('~'), 'Desktop', 'FOV.png'))"
   ]
  },
  {
   "cell_type": "markdown",
   "id": "eceb82c3",
   "metadata": {},
   "source": [
    "## Raw Data -- Full View "
   ]
  },
  {
   "cell_type": "code",
   "execution_count": null,
   "id": "1a3764d5",
   "metadata": {},
   "outputs": [],
   "source": [
    "settings = physion.dataviz.raw.find_default_plot_settings(data, with_subsampling=True)\n",
    "# settings['CaImaging']['roiIndices'] = [1, 13, 0, 34, 5, 6, 8]\n",
    "figRaw, _ = physion.dataviz.raw.plot(data, tlim=[0,data.tlim[1]], settings=settings)"
   ]
  },
  {
   "cell_type": "markdown",
   "id": "47019e45",
   "metadata": {},
   "source": [
    "## Raw Data -- Zoomed View "
   ]
  },
  {
   "cell_type": "code",
   "execution_count": null,
   "id": "ebb99cf3",
   "metadata": {},
   "outputs": [],
   "source": [
    "zoom = [100,160] \n",
    "settings = physion.dataviz.raw.find_default_plot_settings(data)\n",
    "# settings['CaImaging']['roiIndices'] = [1, 13, 0, 34, 5, 6, 8]\n",
    "figRaw, _ = physion.dataviz.raw.plot(data, tlim=zoom, settings=settings)"
   ]
  },
  {
   "cell_type": "code",
   "execution_count": null,
   "id": "d1776ecd",
   "metadata": {},
   "outputs": [],
   "source": [
    "zoom = [620,680] \n",
    "settings = physion.dataviz.raw.find_default_plot_settings(data)\n",
    "# settings['CaImaging']['roiIndices'] = [1, 13, 0, 34, 5, 6, 8]\n",
    "figRaw, _ = physion.dataviz.raw.plot(data, tlim=zoom, settings=settings)"
   ]
  },
  {
   "cell_type": "markdown",
   "id": "9d6cef7f",
   "metadata": {},
   "source": [
    "## Raw Data -- Full View -- All ROIs"
   ]
  },
  {
   "cell_type": "code",
   "execution_count": null,
   "id": "212f20e8",
   "metadata": {},
   "outputs": [],
   "source": [
    "from physion.dataviz.raw import plot as plot_raw, find_default_plot_settings\n",
    "settings = physion.dataviz.raw.find_default_plot_settings(data, with_subsampling=True)\n",
    "settings['CaImaging']['roiIndices'] = range(data.nROIs)\n",
    "settings['CaImaging']['fig_fraction']=10.\n",
    "figRaw, _ = plot_raw(data, figsize=(9,15),\n",
    "                     tlim=[0,data.tlim[1]], settings=settings)"
   ]
  },
  {
   "cell_type": "code",
   "execution_count": null,
   "id": "293f542f",
   "metadata": {},
   "outputs": [],
   "source": [
    "## "
   ]
  },
  {
   "cell_type": "code",
   "execution_count": null,
   "id": "0d8c881a",
   "metadata": {},
   "outputs": [],
   "source": []
  }
 ],
 "metadata": {
  "jupytext": {
   "formats": "ipynb,py:percent"
  },
  "kernelspec": {
   "display_name": "Python 3 (ipykernel)",
   "language": "python",
   "name": "python3"
  }
 },
 "nbformat": 4,
 "nbformat_minor": 5
}
