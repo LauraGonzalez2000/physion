{
 "cells": [
  {
   "cell_type": "markdown",
   "id": "93b91eb0",
   "metadata": {},
   "source": [
    "# Convert NWB files to pandas Dataframes"
   ]
  },
  {
   "cell_type": "code",
   "execution_count": null,
   "id": "b2a08a72",
   "metadata": {},
   "outputs": [],
   "source": [
    "# general python modules for scientific analysis\n",
    "import sys, pathlib, os\n",
    "import numpy as np\n",
    "\n",
    "# add the python path:\n",
    "sys.path.append('../../src')\n",
    "from physion.analysis.dataframe import NWB_to_dataframe\n",
    "from physion.utils import plot_tools as pt"
   ]
  },
  {
   "cell_type": "code",
   "execution_count": null,
   "id": "b0594398",
   "metadata": {
    "lines_to_next_cell": 1
   },
   "outputs": [],
   "source": [
    "filename = os.path.join(os.path.expanduser('~'), 'CURATED' , 'NDNF-December-2022', '2022_12_14-13-27-41.nwb')\n",
    "data = NWB_to_dataframe(filename,\n",
    "                        visual_stim_label='per-protocol',\n",
    "                        #visual_stim_label='per-protocol-and-parameters',\n",
    "                        #visual_stim_label='per-protocol-and-parameters-and-timepoints', #\n",
    "                        subsampling = 10,\n",
    "                        verbose=False)"
   ]
  },
  {
   "cell_type": "code",
   "execution_count": null,
   "id": "5fc7b44f",
   "metadata": {},
   "outputs": [],
   "source": [
    "def min_max(array):\n",
    "    return (array-array.min())/(array.max()-array.min())\n",
    "\n",
    "def color(key):\n",
    "    if 'Pupil' in key:\n",
    "        return pt.plt.cm.Set1(0)\n",
    "    elif 'Gaze' in key:\n",
    "        return pt.plt.cm.Set1(4)\n",
    "    elif 'Running' in key:\n",
    "        return pt.plt.cm.Set1(1)\n",
    "    elif 'Whisking' in key:\n",
    "        return pt.plt.cm.Set1(3)\n",
    "    elif 'VisStim' in key:\n",
    "        return pt.plt.cm.Greys(np.random.uniform(0.2, .6))\n",
    "    else:\n",
    "        return pt.plt.cm.Greens(np.random.uniform(0.5, .8))\n",
    "    \n",
    "fig, ax = pt.plt.subplots(figsize=(8,10))\n",
    "i = 0\n",
    "for key in data.keys():\n",
    "    if key !='time':\n",
    "        c = color(key)\n",
    "        ax.plot(data['time'], -i+.8*min_max(data[key].astype(float)), color=c, lw=1) # convert bool to float when needed\n",
    "        ax.annotate(key+' ', (0, -i+.1), ha='right', color=c)\n",
    "        i+=1\n",
    "                \n",
    "ax.axis('off');"
   ]
  }
 ],
 "metadata": {
  "jupytext": {
   "formats": "ipynb,py:percent"
  },
  "kernelspec": {
   "display_name": "Python 3 (ipykernel)",
   "language": "python",
   "name": "python3"
  }
 },
 "nbformat": 4,
 "nbformat_minor": 5
}
