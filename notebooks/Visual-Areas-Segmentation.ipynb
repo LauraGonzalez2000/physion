{
 "cells": [
  {
   "cell_type": "markdown",
   "id": "e7bb58e8",
   "metadata": {},
   "source": [
    "# Visual Area Segmentation\n",
    "\n",
    "##### copied/adapted from:\n",
    "\n",
    "https://github.com/zhuangjun1981/NeuroAnalysisTools/blob/master/NeuroAnalysisTools/RetinotopicMapping.py\n",
    "\n",
    "##### Cite the original work/implementation:\n",
    "\n",
    "[Zhuang et al., Elife (2017)](https://elifesciences.org/articles/18372)"
   ]
  },
  {
   "cell_type": "code",
   "execution_count": null,
   "id": "bb20b894",
   "metadata": {},
   "outputs": [],
   "source": [
    "# load packages:\n",
    "import numpy as np\n",
    "import sys\n",
    "sys.path.append('../src')\n",
    "import physion.utils.plot_tools as pt\n",
    "from physion.intrinsic.tools import *\n",
    "from physion.intrinsic.analysis import RetinotopicMapping\n",
    "import matplotlib.pylab as plt\n",
    "from PIL import Image"
   ]
  },
  {
   "cell_type": "markdown",
   "id": "5effad76",
   "metadata": {},
   "source": [
    "## Load data"
   ]
  },
  {
   "cell_type": "code",
   "execution_count": null,
   "id": "b4e2437b",
   "metadata": {},
   "outputs": [],
   "source": [
    "dataFolder = os.path.join(os.path.expanduser('~'), 'DATA', 'CIBELE', 'intrinsic_img', 'SST', 'SST_F4', '12-59-33')\n",
    "dataFolder = os.path.join(os.path.expanduser('~'), 'DATA', 'CIBELE', 'intrinsic_img', 'PVNR1', 'PVNR1_M3', '14-55-55')\n",
    "dataFolder = os.path.join(os.path.expanduser('~'), 'DATA', 'CIBELE', 'intrinsic_img', '2024_09_18', '16-15-18')\n",
    "# retinotopic mapping data\n",
    "maps = np.load(os.path.join(dataFolder, 'raw-maps.npy') , allow_pickle=True).item()\n",
    "# vasculature picture\n",
    "imVasc = np.array(Image.open(os.path.join(dataFolder, 'vasculature.tif')))\n",
    "plt.imshow(imVasc**1, cmap=plt.cm.grey); plt.axis('off');"
   ]
  },
  {
   "cell_type": "markdown",
   "id": "e434609c",
   "metadata": {},
   "source": [
    "# Retinotopic Maps"
   ]
  },
  {
   "cell_type": "code",
   "execution_count": null,
   "id": "60c96966",
   "metadata": {},
   "outputs": [],
   "source": [
    "plot_retinotopic_maps(maps, map_type='altitude');"
   ]
  },
  {
   "cell_type": "code",
   "execution_count": null,
   "id": "02e022cc",
   "metadata": {},
   "outputs": [],
   "source": [
    "plot_retinotopic_maps(maps, map_type='azimuth');"
   ]
  },
  {
   "cell_type": "markdown",
   "id": "71bfa2fa",
   "metadata": {},
   "source": [
    "# Perform Segmentation"
   ]
  },
  {
   "cell_type": "code",
   "execution_count": null,
   "id": "ca932c29",
   "metadata": {},
   "outputs": [],
   "source": [
    "data = build_trial_data(maps)\n",
    "data['vasculatureMap'] = imVasc[::int(imVasc.shape[0]/data['aziPosMap'].shape[0]),\\\n",
    "                                ::int(imVasc.shape[1]/data['aziPosMap'].shape[1])]\n",
    "segmentation_params={'phaseMapFilterSigma': 2.,\n",
    "                     'signMapFilterSigma': 3.,\n",
    "                     'signMapThr': 0.6,\n",
    "                     'eccMapFilterSigma': 10.,\n",
    "                     'splitLocalMinCutStep': 5.,\n",
    "                     'mergeOverlapThr': 0.1,\n",
    "                     'closeIter': 3,\n",
    "                     'openIter': 3,\n",
    "                     'dilationIter': 15,\n",
    "                     'borderWidth': 1,\n",
    "                     'smallPatchThr': 100,\n",
    "                     'visualSpacePixelSize': 0.5,\n",
    "                     'visualSpaceCloseIter': 15,\n",
    "                     'splitOverlapThr': 1.1}\n",
    "data['params'] = segmentation_params\n",
    "trial = RetinotopicMapping.RetinotopicMappingTrial(**data)\n",
    "trial.processTrial(isPlot=False) # TURN TO TRUE TO VISUALIZE THE SEGMENTATION STEPS"
   ]
  },
  {
   "cell_type": "code",
   "execution_count": null,
   "id": "a2374a37",
   "metadata": {},
   "outputs": [],
   "source": [
    "fig, ax = pt.figure(figsize=(5,5))\n",
    "h = RetinotopicMapping.plotPatches(trial.finalPatches, plotaxis=ax)\n",
    "ax.imshow(imVasc, cmap=plt.cm.grey, vmin=imVasc.min(), vmax=imVasc.max(), extent=[*ax.get_xlim(), *ax.get_ylim()])\n",
    "h = RetinotopicMapping.plotPatches(trial.finalPatches, plotaxis=ax)\n",
    "ax.axis('off');\n",
    "#fig.savefig(os.path.join(os.path.expanduser('~'), 'Desktop', 'fig.svg'))"
   ]
  },
  {
   "cell_type": "markdown",
   "id": "ae51abca",
   "metadata": {},
   "source": [
    "# Summary Plot"
   ]
  },
  {
   "cell_type": "code",
   "execution_count": null,
   "id": "357352a2",
   "metadata": {},
   "outputs": [],
   "source": [
    "fig, AX = pt.figure(axes=(5,1), figsize=(.9*2,.9*3), wspace=0.4)\n",
    "\n",
    "for map_type, ax, bounds in zip(['altitude', 'azimuth'], AX[:2],\n",
    "                                [[-50, 50],[-60, 60]]):\n",
    "    im = ax.imshow(maps['%s-retinotopy' % map_type], cmap=plt.cm.PRGn,\\\n",
    "                   vmin=bounds[0], vmax=bounds[1])\n",
    "    fig.colorbar(im, ax=ax,\n",
    "                 label='visual angle (deg.)')\n",
    "    ax.set_title('%s map' % map_type)\n",
    "\n",
    "ax = AX[2]\n",
    "im = ax.imshow(trial.signMapf, cmap='jet', vmin=-1, vmax=1)\n",
    "fig.colorbar(im, ax=ax, label='phase gradient sign')\n",
    "ax.set_title('sign map')\n",
    "    \n",
    "ax=AX[-2]\n",
    "h = RetinotopicMapping.plotPatches(trial.finalPatches, plotaxis=ax)\n",
    "ax.imshow(imVasc, cmap=plt.cm.grey, vmin=imVasc.min(), vmax=imVasc.max(), \n",
    "          extent=[*ax.get_xlim(), *ax.get_ylim()])\n",
    "h = RetinotopicMapping.plotPatches(trial.finalPatches, plotaxis=ax)\n",
    "ax.set_title('w/ vasculature')\n",
    "\n",
    "ax = AX[-1]\n",
    "h = RetinotopicMapping.plotPatches(trial.finalPatches, plotaxis=ax)\n",
    "ax.imshow(imVasc, cmap=plt.cm.grey, vmin=imVasc.min(), vmax=imVasc.max(), extent=[*ax.get_xlim(), *ax.get_ylim()])\n",
    "\n",
    "for ax in AX:\n",
    "    ax.axis('equal')\n",
    "    ax.axis('off')    \n",
    "\n",
    "#fig.savefig(os.path.join(os.path.expanduser('~'), 'Desktop', 'fig.svg'))"
   ]
  }
 ],
 "metadata": {
  "jupytext": {
   "formats": "ipynb,py:percent"
  },
  "kernelspec": {
   "display_name": "Python 3 (ipykernel)",
   "language": "python",
   "name": "python3"
  }
 },
 "nbformat": 4,
 "nbformat_minor": 5
}
