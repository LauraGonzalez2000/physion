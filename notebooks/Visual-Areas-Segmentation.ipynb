{
 "cells": [
  {
   "cell_type": "markdown",
   "id": "a9b3f8d0-64f7-4299-81c3-906084fdb196",
   "metadata": {},
   "source": [
    "# Visual Area Segmentation\n",
    "\n",
    "##### copied/adapted from:\n",
    "\n",
    "https://github.com/zhuangjun1981/NeuroAnalysisTools/blob/master/NeuroAnalysisTools/RetinotopicMapping.py\n",
    "\n",
    "##### Cite the original work/implementation:\n",
    "\n",
    "[Zhuang et al., Elife (2017)](https://elifesciences.org/articles/18372)"
   ]
  },
  {
   "cell_type": "code",
   "execution_count": null,
   "id": "fc453549-55fe-4595-baa9-68de1939bfe1",
   "metadata": {},
   "outputs": [],
   "source": [
    "# load packages:\n",
    "import numpy as np\n",
    "import sys\n",
    "sys.path.append('../src')\n",
    "import physion.utils.plot_tools as pt\n",
    "from physion.intrinsic.tools import *\n",
    "from physion.intrinsic.analysis import RetinotopicMapping\n",
    "import matplotlib.pylab as plt\n",
    "from PIL import Image"
   ]
  },
  {
   "cell_type": "markdown",
   "id": "fcffabde-98b5-46af-b55b-ee3365f31dc8",
   "metadata": {},
   "source": [
    "## Load data"
   ]
  },
  {
   "cell_type": "code",
   "execution_count": null,
   "id": "bd4f14b2-65f1-4a63-b185-8de38b8bec34",
   "metadata": {},
   "outputs": [],
   "source": [
    "dataFolder = '/Users/yann/UNPROCESSED/CIBELE/2024_06_28/12-36-46/'\n",
    "# retinotopic mapping data\n",
    "maps = np.load(os.path.join(dataFolder, 'raw-maps.npy'), allow_pickle=True).item()\n",
    "# vasculature picture\n",
    "imVasc = np.array(Image.open(os.path.join(dataFolder, 'vasculature-PVNR1_M3-HQ.tif')))\n",
    "plt.imshow(imVasc, cmap=plt.cm.grey); plt.axis('off');"
   ]
  },
  {
   "cell_type": "markdown",
   "id": "fcb107f5-e4c7-4149-90ee-a12310d823d4",
   "metadata": {},
   "source": [
    "# Retinotopic Maps"
   ]
  },
  {
   "cell_type": "code",
   "execution_count": null,
   "id": "d056cb71-1d9b-4f0a-be2d-faa157aae797",
   "metadata": {},
   "outputs": [],
   "source": [
    "fig, AX = pt.figure(axes=(2,2), figsize=(1.5,2), hspace=0.5, wspace=0.5)\n",
    "\n",
    "for p, direction in enumerate(['right', 'left']):\n",
    "    plot_power_map(AX[0][p], fig, maps['%s-power' % direction])\n",
    "    plot_phase_map(AX[1][p], fig, maps['%s-phase' % direction])\n",
    "    AX[0][p].set_title(direction)\n",
    "for ax in pt.flatten(AX):\n",
    "    ax.axis('off')"
   ]
  },
  {
   "cell_type": "code",
   "execution_count": null,
   "id": "ffc1ff3c-d952-460e-882c-c2d15adca47b",
   "metadata": {},
   "outputs": [],
   "source": [
    "fig, AX = pt.figure(axes=(2,2), figsize=(1.5,2), hspace=0.5, wspace=0.5)\n",
    "\n",
    "for p, direction in enumerate(['up', 'down']):\n",
    "    plot_power_map(AX[0][p], fig, maps['%s-power' % direction])\n",
    "    plot_phase_map(AX[1][p], fig, maps['%s-phase' % direction])\n",
    "    AX[0][p].set_title(direction)\n",
    "for ax in pt.flatten(AX):\n",
    "    ax.axis('off')"
   ]
  },
  {
   "cell_type": "code",
   "execution_count": null,
   "id": "908dc5ee-d96d-4ec0-9cb9-9ca1deb601df",
   "metadata": {},
   "outputs": [],
   "source": [
    "plot_retinotopic_maps(maps, map_type='altitude');"
   ]
  },
  {
   "cell_type": "code",
   "execution_count": null,
   "id": "11e7a83b-2dd1-4d11-9ac8-f3b3a587ad01",
   "metadata": {},
   "outputs": [],
   "source": [
    "plot_retinotopic_maps(maps, map_type='azimuth');"
   ]
  },
  {
   "cell_type": "markdown",
   "id": "0cc82de5-7644-4e98-9c90-85fdf0b08300",
   "metadata": {},
   "source": [
    "# Perform Segmentation"
   ]
  },
  {
   "cell_type": "code",
   "execution_count": null,
   "id": "f43d95ef-01b3-4211-8628-fdcd1c755399",
   "metadata": {},
   "outputs": [],
   "source": [
    "data = build_trial_data(maps)\n",
    "segmentation_params={'phaseMapFilterSigma': 2.,\n",
    "                     'signMapFilterSigma': 2.,\n",
    "                     'signMapThr': 0.65,\n",
    "                     'eccMapFilterSigma': 10.,\n",
    "                     'splitLocalMinCutStep': 5.,\n",
    "                     'mergeOverlapThr': 0.1,\n",
    "                     'closeIter': 3,\n",
    "                     'openIter': 3,\n",
    "                     'dilationIter': 15,\n",
    "                     'borderWidth': 1,\n",
    "                     'smallPatchThr': 100,\n",
    "                     'visualSpacePixelSize': 0.5,\n",
    "                     'visualSpaceCloseIter': 15,\n",
    "                     'splitOverlapThr': 1.1}\n",
    "data['params'] = segmentation_params\n",
    "trial = RetinotopicMapping.RetinotopicMappingTrial(**data)\n",
    "trial.processTrial(isPlot=True)"
   ]
  },
  {
   "cell_type": "code",
   "execution_count": null,
   "id": "972b4076-e0cd-480d-a507-3bb0699f9009",
   "metadata": {},
   "outputs": [],
   "source": [
    "fig, ax = pt.figure(figsize=(5,5))\n",
    "h = RetinotopicMapping.plotPatches(trial.finalPatches, plotaxis=ax)\n",
    "ax.imshow(imVasc, cmap=plt.cm.grey, vmin=imVasc.min(), vmax=imVasc.max(), extent=[*ax.get_xlim(), *ax.get_ylim()])\n",
    "h = RetinotopicMapping.plotPatches(trial.finalPatches, plotaxis=ax)\n",
    "ax.axis('off');\n",
    "#fig.savefig(os.path.join(os.path.expanduser('~'), 'Desktop', 'fig.svg'))"
   ]
  },
  {
   "cell_type": "code",
   "execution_count": null,
   "id": "cd92a5d8-eeb5-44df-afda-e6f5f5012d0b",
   "metadata": {},
   "outputs": [],
   "source": []
  }
 ],
 "metadata": {
  "kernelspec": {
   "display_name": "Python 3 (ipykernel)",
   "language": "python",
   "name": "python3"
  },
  "language_info": {
   "codemirror_mode": {
    "name": "ipython",
    "version": 3
   },
   "file_extension": ".py",
   "mimetype": "text/x-python",
   "name": "python",
   "nbconvert_exporter": "python",
   "pygments_lexer": "ipython3",
   "version": "3.11.6"
  }
 },
 "nbformat": 4,
 "nbformat_minor": 5
}
