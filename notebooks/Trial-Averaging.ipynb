{
 "cells": [
  {
   "cell_type": "markdown",
   "id": "22a1ffcf-5f8b-4cdf-ab05-f843d14d3b2b",
   "metadata": {},
   "source": [
    "# Trial Averaging"
   ]
  },
  {
   "cell_type": "markdown",
   "id": "0893b21d-e890-434a-a3d5-d4971dd22d9e",
   "metadata": {},
   "source": [
    "## Load data"
   ]
  },
  {
   "cell_type": "code",
   "execution_count": null,
   "id": "e8ee1c04-0d9d-414f-8d98-192f1791b138",
   "metadata": {},
   "outputs": [],
   "source": [
    "filename = '/Users/yann/ASSEMBLE/2024_03_08-10-59-53.nwb'\n",
    "\n",
    "import physion\n",
    "data = physion.analysis.read_NWB.Data(filename,\n",
    "                                     verbose=False)"
   ]
  },
  {
   "cell_type": "markdown",
   "id": "f11aaade-9ba1-4ce7-bd4f-6e46633e1653",
   "metadata": {},
   "source": [
    "## Build episodes (stimulus-aligned)"
   ]
  },
  {
   "cell_type": "code",
   "execution_count": null,
   "id": "861a067c-cbd4-46d2-b800-a3afbe4b3dd7",
   "metadata": {},
   "outputs": [],
   "source": [
    "episodes = physion.analysis.process_NWB.EpisodeData(data, \n",
    "                                                    quantities=['dFoF'],\n",
    "                                                    protocol_id=0)"
   ]
  },
  {
   "cell_type": "markdown",
   "id": "5464f2fd-05a5-42e3-baa1-9d214aede916",
   "metadata": {},
   "source": [
    "## Plot properties"
   ]
  },
  {
   "cell_type": "code",
   "execution_count": null,
   "id": "294f21d2-6231-4cbd-bc0c-1e11855f76d7",
   "metadata": {},
   "outputs": [],
   "source": [
    "plot_props = dict(column_key='contrast',\n",
    "                  Xbar=1, Xbar_label='1s',\n",
    "                  with_annotation=True,\n",
    "                  figsize=(9,1.8))"
   ]
  },
  {
   "cell_type": "markdown",
   "id": "0bc82757-339d-4004-8d7d-b790f6395e0a",
   "metadata": {},
   "source": [
    "## Average over all ROIs "
   ]
  },
  {
   "cell_type": "code",
   "execution_count": null,
   "id": "18a029fa-fef7-403a-8305-3eb0dae76806",
   "metadata": {},
   "outputs": [],
   "source": [
    "fig, AX = physion.dataviz.episodes.trial_average.plot(episodes,\n",
    "                                                      roiIndices='all',\n",
    "                                                      **plot_props)"
   ]
  },
  {
   "cell_type": "markdown",
   "id": "4458edda-e54b-4b3d-839e-9e670b9d219c",
   "metadata": {},
   "source": [
    "## Single ROIs "
   ]
  },
  {
   "cell_type": "code",
   "execution_count": null,
   "id": "67d8a7ec-f791-4893-87a5-66b55660091c",
   "metadata": {},
   "outputs": [],
   "source": [
    "fig, AX = physion.dataviz.episodes.trial_average.plot(episodes,\n",
    "                                                      roiIndex=0,\n",
    "                                                      **plot_props)"
   ]
  },
  {
   "cell_type": "code",
   "execution_count": null,
   "id": "205d0e5f-1535-4dc2-9bbd-5bb1faea1360",
   "metadata": {},
   "outputs": [],
   "source": [
    "fig, AX = physion.dataviz.episodes.trial_average.plot(episodes,\n",
    "                                                      roiIndex=2,\n",
    "                                                      **plot_props)"
   ]
  }
 ],
 "metadata": {
  "jupytext": {
   "formats": "ipynb,auto:percent"
  },
  "kernelspec": {
   "display_name": "Python 3 (ipykernel)",
   "language": "python",
   "name": "python3"
  },
  "language_info": {
   "codemirror_mode": {
    "name": "ipython",
    "version": 3
   },
   "file_extension": ".py",
   "mimetype": "text/x-python",
   "name": "python",
   "nbconvert_exporter": "python",
   "pygments_lexer": "ipython3",
   "version": "3.11.6"
  }
 },
 "nbformat": 4,
 "nbformat_minor": 5
}
