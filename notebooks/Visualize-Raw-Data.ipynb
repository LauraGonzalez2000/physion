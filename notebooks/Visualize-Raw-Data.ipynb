{
 "cells": [
  {
   "cell_type": "markdown",
   "id": "b68dcd15",
   "metadata": {},
   "source": [
    "# Visualize Raw Data"
   ]
  },
  {
   "cell_type": "markdown",
   "id": "43f5af31",
   "metadata": {},
   "source": [
    "Get the example data file:\n",
    "\n",
    "https://drive.google.com/file/d/1tjOfxj1WuvMF3uBUHLXTGfs6dUUr1QaC/view?usp=drive_link\n",
    "\n",
    "The code below assume that you have it in your \"Downloads\" folder, modify the filename location otherwise\n"
   ]
  },
  {
   "cell_type": "code",
   "execution_count": null,
   "id": "dc87f08b",
   "metadata": {},
   "outputs": [],
   "source": [
    "# filename:            /!\\ modify if it is not in your \"Downloads\" folder\n",
    "import os\n",
    "filename = os.path.join(os.path.expanduser('~'), \n",
    "                        'Desktop', \n",
    "                        '2024_09_03-16-00-59.nwb')"
   ]
  },
  {
   "cell_type": "code",
   "execution_count": null,
   "id": "9e89098e",
   "metadata": {},
   "outputs": [],
   "source": [
    "# general python modules for scientific analysis\n",
    "import sys, pathlib, os\n",
    "import numpy as np\n",
    "\n",
    "# add the python path:\n",
    "sys.path.append('../src')\n",
    "from physion.utils import plot_tools as pt\n",
    "from physion.analysis.read_NWB import Data, scan_folder_for_NWBfiles"
   ]
  },
  {
   "cell_type": "code",
   "execution_count": null,
   "id": "c04d0d03",
   "metadata": {},
   "outputs": [],
   "source": [
    "# load a datafile\n",
    "#filename = os.path.join(os.path.expanduser('~'), \n",
    "#                        'CURATED', 'Pyr-FlexiCortPrelim-FebJuly2022', '2022_07_07-14-45-08.nwb')\n",
    "data = Data(filename,\n",
    "            verbose=False)\n",
    "data.build_rawFluo(verbose=False)\n",
    "data.build_dFoF(verbose=False)"
   ]
  },
  {
   "cell_type": "markdown",
   "id": "45a0d5c7",
   "metadata": {},
   "source": [
    "## Showing Field of View"
   ]
  },
  {
   "cell_type": "code",
   "execution_count": null,
   "id": "1547edf7",
   "metadata": {},
   "outputs": [],
   "source": [
    "fig, AX = pt.figure(axes=(3,1), figsize=(1.4,3), wspace=0.15)\n",
    "\n",
    "from physion.dataviz.imaging import show_CaImaging_FOV\n",
    "#\n",
    "show_CaImaging_FOV(data, key='meanImg', \n",
    "                   cmap=pt.get_linear_colormap('k', 'tab:green'),\n",
    "                   NL=2, # non-linearity to normalize image\n",
    "                   ax=AX[0])\n",
    "show_CaImaging_FOV(data, key='max_proj', \n",
    "                   cmap=pt.get_linear_colormap('k', 'tab:green'),\n",
    "                   NL=2, # non-linearity to normalize image\n",
    "                   ax=AX[1])\n",
    "show_CaImaging_FOV(data, key='meanImg', \n",
    "                   cmap=pt.get_linear_colormap('k', 'tab:green'),\n",
    "                   NL=2,\n",
    "                   roiIndices=range(data.nROIs), \n",
    "                   ax=AX[2])\n",
    "\n",
    "# save on desktop\n",
    "fig.savefig(os.path.join(os.path.expanduser('~'), 'Desktop', 'FOV.png'))"
   ]
  },
  {
   "cell_type": "markdown",
   "id": "85fc7b12",
   "metadata": {},
   "source": [
    "# Show Raw Data"
   ]
  },
  {
   "cell_type": "code",
   "execution_count": null,
   "id": "351f39ca",
   "metadata": {},
   "outputs": [],
   "source": [
    "# default plot\n",
    "from physion.dataviz.raw import plot as plot_raw, find_default_plot_settings\n",
    "settings = find_default_plot_settings(data)\n",
    "_ = plot_raw(data, settings=settings)"
   ]
  },
  {
   "cell_type": "markdown",
   "id": "094bbb84",
   "metadata": {},
   "source": [
    "## Full view"
   ]
  },
  {
   "cell_type": "code",
   "execution_count": null,
   "id": "5fbd4312",
   "metadata": {},
   "outputs": [],
   "source": [
    "settings = {'Locomotion': {'fig_fraction': 1,\n",
    "                           'subsampling': 1,\n",
    "                           'color': '#1f77b4'},\n",
    "            'FaceMotion': {'fig_fraction': 1,\n",
    "                           'subsampling': 1,\n",
    "                           'color': 'purple'},\n",
    "            'Pupil': {'fig_fraction': 2,\n",
    "                      'subsampling': 1,\n",
    "                      'color': '#d62728'},\n",
    "             'CaImaging': {'fig_fraction': 10,\n",
    "                           'subsampling': 1,\n",
    "                           'subquantity': 'dF/F',\n",
    "                           'roiIndices': np.random.choice(np.arange(data.nROIs), np.min([20,data.nROIs]), replace=False),\n",
    "                           'color': '#2ca02c'}\n",
    "           }\n",
    "plot_raw(data, tlim=[0, data.t_dFoF[-1]], settings=settings)"
   ]
  },
  {
   "cell_type": "code",
   "execution_count": null,
   "id": "5ecad383",
   "metadata": {},
   "outputs": [],
   "source": []
  },
  {
   "cell_type": "code",
   "execution_count": null,
   "id": "ceb4d7c4",
   "metadata": {},
   "outputs": [],
   "source": []
  }
 ],
 "metadata": {
  "jupytext": {
   "formats": "ipynb,py:percent"
  },
  "kernelspec": {
   "display_name": "Python 3 (ipykernel)",
   "language": "python",
   "name": "python3"
  }
 },
 "nbformat": 4,
 "nbformat_minor": 5
}
