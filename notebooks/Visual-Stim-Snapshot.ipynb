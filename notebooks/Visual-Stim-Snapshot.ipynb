{
 "cells": [
  {
   "cell_type": "markdown",
   "id": "a74e1b86",
   "metadata": {},
   "source": [
    "# Get Snapshots of the Visual Stimulation displayed on the Screen"
   ]
  },
  {
   "cell_type": "code",
   "execution_count": null,
   "id": "6d2e351d",
   "metadata": {},
   "outputs": [],
   "source": [
    "# filename:            /!\\ modify if it is not in your \"Downloads\" folder\n",
    "import os\n",
    "filename = os.path.join(os.path.expanduser('~'),'CURATED','SST-FF-Gratings-Stim','Wild-Type', '2023_05_11-15-25-41.nwb')"
   ]
  },
  {
   "cell_type": "code",
   "execution_count": null,
   "id": "edda3bb5",
   "metadata": {},
   "outputs": [],
   "source": [
    "# general python modules for scientific analysis\n",
    "import sys, pathlib, os\n",
    "import numpy as np\n",
    "\n",
    "# add the python path:\n",
    "sys.path.append('../src')\n",
    "from physion.utils import plot_tools as pt\n",
    "from physion.analysis.read_NWB import Data\n",
    "\n",
    "import warnings\n",
    "warnings.filterwarnings(\"ignore\") # disable the UserWarning from pynwb (arrays are not well oriented)"
   ]
  },
  {
   "cell_type": "code",
   "execution_count": null,
   "id": "25321fdd",
   "metadata": {},
   "outputs": [],
   "source": [
    "# load the datafile\n",
    "data = Data(filename,\n",
    "            verbose=False)\n",
    "data.init_visual_stim()"
   ]
  },
  {
   "cell_type": "markdown",
   "id": "892b5f96",
   "metadata": {},
   "source": [
    "## Show a single episode"
   ]
  },
  {
   "cell_type": "code",
   "execution_count": null,
   "id": "019a32a5",
   "metadata": {},
   "outputs": [],
   "source": [
    "episode = 1\n",
    "data.visual_stim.show_frame(episode, label={'degree': 20, 'shift_factor': 0.02, 'lw': 2, 'fontsize': 12})"
   ]
  },
  {
   "cell_type": "code",
   "execution_count": null,
   "id": "ab50b98f",
   "metadata": {},
   "outputs": [],
   "source": [
    "# or:\n",
    "episode = 0\n",
    "data.visual_stim.plot_stim_picture(episode)"
   ]
  },
  {
   "cell_type": "markdown",
   "id": "4219f012",
   "metadata": {},
   "source": [
    "## Show several episodes"
   ]
  },
  {
   "cell_type": "code",
   "execution_count": null,
   "id": "1a78885d",
   "metadata": {},
   "outputs": [],
   "source": [
    "episodes = np.arange(16)\n",
    "\n",
    "fig, AX = pt.figure(axes=(len(episodes), 1), figsize=(2,2))\n",
    "for e, episode in enumerate(episodes):\n",
    "    data.visual_stim.plot_stim_picture(episode, ax=AX[e])\n",
    "fig.savefig(os.path.join(os.path.expanduser('~'), 'Desktop', 'stim.pdf'))"
   ]
  },
  {
   "cell_type": "code",
   "execution_count": null,
   "id": "6cf3daff",
   "metadata": {},
   "outputs": [],
   "source": []
  }
 ],
 "metadata": {
  "jupytext": {
   "formats": "ipynb,py:percent"
  },
  "kernelspec": {
   "display_name": "Python 3 (ipykernel)",
   "language": "python",
   "name": "python3"
  }
 },
 "nbformat": 4,
 "nbformat_minor": 5
}
