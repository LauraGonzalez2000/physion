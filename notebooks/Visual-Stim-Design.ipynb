{
 "cells": [
  {
   "cell_type": "markdown",
   "id": "33f4ff51",
   "metadata": {},
   "source": [
    "# Visual Stimulation"
   ]
  },
  {
   "cell_type": "code",
   "execution_count": null,
   "id": "6439fdb8",
   "metadata": {},
   "outputs": [],
   "source": [
    "import sys, os\n",
    "import numpy as np\n",
    "sys.path.append(os.path.join(os.path.expanduser('~'), 'work', 'physion', 'src'))\n",
    "import physion\n",
    "import physion.utils.plot_tools as pt\n",
    "from physion.visual_stim.build import get_default_params"
   ]
  },
  {
   "cell_type": "markdown",
   "id": "09b473ab",
   "metadata": {},
   "source": [
    "## Dealing with the transformation from angles to display on the screen\n",
    "\n",
    "We want to convert the angular space of animal vision to the coordinates on a flat screen.\n",
    "\n",
    "The angular coordinates of animal vision are $\\theta_x$ and $\\theta_z$ that are the relative angles with respect to the center of the visual field of coordinates ($\\theta_x$=0, $\\theta_z$=0). This means that $\\theta_x \\in [-\\pi/2,\\pi/2]$ and $\\theta_z \\in [-\\pi/2,\\pi/2]$ (vision covers only half of the 3d space).\n",
    "\n",
    "<img src=\"../docs/visual_stim/coordinates.svg\" width=60 height=60 />\n",
    "\n",
    "We start from the [spherical coordinates](https://en.wikipedia.org/wiki/Spherical_coordinate_system) with the physics convention: $\\theta$ is the polar angle and $\\phi$ is the azimuthal angle. \n",
    "\n",
    "The eye is the (0,0,0) reference point, the screen is perpendicular to the (x,y) axis and is placed at a distance y=C.\n",
    "\n",
    "The link between Cartesian and spherical coordinates is the following:\n",
    "\n",
    "$$ x = r \\, \\sin(\\theta) \\, \\cos(\\phi) $$\n",
    "\n",
    "$$ y = r \\, \\sin(\\theta) \\, \\sin(\\phi) $$\n",
    "\n",
    "$$ z = r \\, \\cos(\\theta) $$\n",
    "\n",
    "The relationship with our coordinates are: $\\theta_z = \\pi/2 - \\theta$ and $\\theta_x = \\pi/2 - \\phi$, so:\n",
    "\n",
    "\n",
    "$$ x = r \\, \\sin(\\pi/2 - \\theta_z) \\, \\cos(\\pi/2 - \\theta_x) $$\n",
    "\n",
    "$$ y = r \\, \\sin(\\pi/2 - \\theta_z) \\, \\sin(\\pi/2 - \\theta_x) $$\n",
    "\n",
    "$$ z = r \\, \\cos(\\pi/2 - \\theta_z) $$\n",
    "\n",
    "Using [trigonometric identities](https://en.wikipedia.org/wiki/List_of_trigonometric_identities), we get:\n",
    "\n",
    "$$ x = r \\, \\cos(\\theta_z) \\, \\sin(\\theta_x) $$\n",
    "\n",
    "$$ y = r \\, \\cos(\\theta_z) \\, \\cos(\\theta_x) $$\n",
    "\n",
    "$$ z = r \\, \\sin(\\theta_z) $$\n",
    "\n",
    "The screen corresponds to the coordinates: $$ y = C $$\n",
    "\n",
    "So this imposes the constraint:\n",
    "\n",
    "$$\n",
    "r = \\frac{C}{ \\cos(\\theta_z) \\, \\cos(\\theta_x) }\n",
    "$$\n",
    "\n",
    "So:\n",
    "\n",
    "$$ x = \\frac{C}{ \\cos(\\theta_z) \\, \\cos(\\theta_x)} \\, \\cos(\\theta_z) \\, \\sin(\\theta_x)  = C \\, \\tan(\\theta_x) $$\n",
    "\n",
    "$$ z = \\frac{C}{ \\cos(\\theta_z) \\, \\cos(\\theta_x)} \\, \\sin(\\theta_z)  = C \\, \\frac{\\tan(\\theta_z)}{\\cos(\\theta_x)} $$\n",
    "\n",
    "------------------------\n",
    "\n",
    "** This is implemented in the [visual_stim/main.py](../../visual_stim/main.py) in the function `set_angle_meshgrid` **"
   ]
  },
  {
   "cell_type": "markdown",
   "id": "d4c28220",
   "metadata": {},
   "source": [
    "## Illustrating the space wrapping from angle-to-screen"
   ]
  },
  {
   "cell_type": "code",
   "execution_count": null,
   "id": "481ab9e6",
   "metadata": {
    "lines_to_next_cell": 2
   },
   "outputs": [],
   "source": [
    "z = np.linspace(-5, 5, 20)\n",
    "x = 16./9.*z\n",
    "X, Z = np.meshgrid(x, z, indexing='ij')\n",
    "Y = 0.*X+7\n",
    "\n",
    "fig, AX = pt.figure(axes = (2,1), figsize=(2,3), wspace=0.5)\n",
    "AX[0].plot(X.flatten(), Z.flatten(), '.', ms=1)\n",
    "AX[0].axis('equal')\n",
    "x = np.arctan(X/Y)\n",
    "z = np.arctan(Z*np.cos(x)/Y)\n",
    "AX[1].plot(x.flatten(), z.flatten(), '.', ms=1)\n",
    "AX[0].axis('equal')\n",
    "for ax, title in zip(AX, ['screen position', 'angular space']):\n",
    "    pt.set_plot(ax, title=title)"
   ]
  },
  {
   "cell_type": "markdown",
   "id": "6daa1d8a",
   "metadata": {},
   "source": [
    "## Grating Stimuli"
   ]
  },
  {
   "cell_type": "code",
   "execution_count": null,
   "id": "9ec29277",
   "metadata": {},
   "outputs": [],
   "source": [
    "params = get_default_params('grating')\n",
    "\n",
    "# a full-field grating (100deg => radius > screen-size)\n",
    "for key, val in zip(['radius', 'x-center', 'y-center', 'angle'],\n",
    "                    [100, 0, 0, 0]):\n",
    "    params['%s' %key ] = val\n",
    "\n",
    "fig, AX = pt.figure(axes=(3,1), figsize=(1.8,2), wspace=0, left=0, right=0)\n",
    "\n",
    "for units, ax, title in zip(['deg', 'cm', 'lin-deg'], AX,\n",
    "                           ['angular space', 'on screen', 'linearized angle display\\n(deprecated)']):\n",
    "    params['units'] = units\n",
    "    stim = physion.visual_stim.stimuli.grating.stim(params)\n",
    "    stim.plot_stim_picture(0, ax=ax, with_mask=True)\n",
    "    ax.set_title(title)"
   ]
  },
  {
   "cell_type": "code",
   "execution_count": null,
   "id": "61ad7d4f",
   "metadata": {},
   "outputs": [],
   "source": [
    "params = get_default_params('grating')\n",
    "params['no-window'], params['demo'] = True, False\n",
    "\n",
    "# a full-field grating (100deg => radius > screen-size)\n",
    "for key, val in zip(['radius', 'x-center', 'y-center', 'phase'],\n",
    "                    [15, -30, 15, -90]):\n",
    "    params['%s' %key ] = val\n",
    "\n",
    "fig, AX = pt.figure(axes=(3,1), figsize=(1.8,2), wspace=0, left=0, right=0)\n",
    "\n",
    "for units, ax, title in zip(['deg', 'cm', 'lin-deg'], AX,\n",
    "                           ['angular space', 'on screen', 'linearized angle display\\n(deprecated)']):\n",
    "    params['units'] = units\n",
    "    stim = physion.visual_stim.stimuli.grating.stim(params)\n",
    "    stim.plot_stim_picture(0, ax=ax, with_mask=True)\n",
    "    ax.set_title(title)"
   ]
  },
  {
   "cell_type": "markdown",
   "id": "a0867644",
   "metadata": {},
   "source": [
    "## 1) Properties"
   ]
  },
  {
   "cell_type": "code",
   "execution_count": null,
   "id": "8b281b27",
   "metadata": {},
   "outputs": [],
   "source": [
    "\"\"\"\n",
    "Screen Dimension and Screen Placement Parameters for the Visual Stimulation\n",
    "\"\"\"\n",
    "screen_width = 48. # cm\n",
    "screen_height = 27. # cm\n",
    "distance_from_eye = 15. # cm"
   ]
  },
  {
   "cell_type": "code",
   "execution_count": null,
   "id": "5b91f9ae",
   "metadata": {},
   "outputs": [],
   "source": [
    "import sys\n",
    "sys.path.append('../src')\n",
    "from physion.utils import plot_tools as pt\n",
    "import matplotlib.pylab as plt\n",
    "import numpy as np\n",
    "\n",
    "\"\"\"\n",
    "Functions implementing basic trigonometric calculations\n",
    "\"\"\"\n",
    "\n",
    "def cm_to_angle(distance,\n",
    "                distance_from_eye=15.):\n",
    "    # distance_from_eye in cm\n",
    "    return 180./np.pi*np.arctan(distance/distance_from_eye)\n",
    "\n",
    "def cm_to_angle_lin(distance, distance_from_eye=15.):\n",
    "    # the derivative of arctan in 0 is 1\n",
    "    return distance/distance_from_eye*180./np.pi\n",
    "    #return cm_to_angle(1, distance_from_eye=distance_from_eye)*distance\n",
    "\n",
    "def angle_to_cm(angle,\n",
    "                distance_from_eye=15.):\n",
    "    # distance_from_eye in cm\n",
    "    return distance_from_eye*np.tan(np.pi*angle/180.)\n",
    "\n",
    "\"\"\"\n",
    "plot\n",
    "\"\"\"\n",
    "\n",
    "max_height = cm_to_angle(screen_height/2.)\n",
    "max_width = cm_to_angle(screen_width/2.)\n",
    "\n",
    "angles = np.linspace(0, 1.3*max_width, 100) #\n",
    "positions = angle_to_cm(angles, distance_from_eye=distance_from_eye)\n",
    "\n",
    "fig, [ax, ax2, ax3] = plt.subplots(1, 3, figsize=(7,1.2))\n",
    "plt.subplots_adjust(wspace=0.9)\n",
    "ax.plot(angles, positions, color='k')\n",
    "pt.plot(angles, angle_to_cm(1)*angles, ls='--', ax=ax, no_set=True, color='tab:red')\n",
    "ax.annotate('lin.\\napprox.', (0.99,0.35), color='tab:red', xycoords='axes fraction')\n",
    "\n",
    "ax2.plot(positions, angles, color='k')\n",
    "pt.plot(angle_to_cm(1)*angles, angles, ls='--', ax=ax2, no_set=True, color='tab:red')\n",
    "\n",
    "ax.plot(np.ones(2)*max_height, [0,positions.max()], ':', color='tab:green', lw=1)\n",
    "ax.annotate('max. \\naltitude ', (max_height,positions.max()), color='tab:green', xycoords='data', va='top', ha='right')\n",
    "\n",
    "ax.plot(np.ones(2)*max_width, [0,.98*positions.max()], ':', color='tab:blue', lw=1)\n",
    "ax.annotate('max.\\nazimuth', (max_width, positions.max()), color='tab:blue', xycoords='data', ha='center')\n",
    "\n",
    "pt.set_plot(ax, \n",
    "            ylabel='distance (cm) \\nfrom center',\n",
    "            xlabel='angle (deg)\\nfrom center',\n",
    "            ylim=[0,positions.max()])\n",
    "pt.set_plot(ax2, \n",
    "            xlabel='distance (cm) \\nfrom center',\n",
    "            ylabel='angle (deg)')\n",
    "\n",
    "x = np.linspace(0, screen_width/2.)\n",
    "ax3.plot(cm_to_angle_lin(x), cm_to_angle(x), 'k-')\n",
    "ax3.plot(np.ones(2)*cm_to_angle_lin(x[-1]), [0,cm_to_angle(x[-1])], 'k:', lw=1)\n",
    "ax3.plot([0,cm_to_angle_lin(x[-1])], np.ones(2)*cm_to_angle(x[-1]), 'k:', lw=1)\n",
    "ax3.annotate('%.1f$^{o}$' % cm_to_angle_lin(x[-1]),\n",
    "             (1, 0), xycoords='axes fraction')\n",
    "ax3.annotate('%.1f$^{o}$' % cm_to_angle(x[-1]),\n",
    "             (1, 1), xycoords='axes fraction', ha='right')\n",
    "\n",
    "def angle_lin_to_true_angle(angle):\n",
    "    return 180./np.pi*np.arctan(angle/180.*np.pi)\n",
    "\n",
    "x = np.linspace(0, 90, 10)\n",
    "ax3.plot(x, angle_lin_to_true_angle(x), 'ro')\n",
    "\n",
    "pt.set_plot(ax3, \n",
    "            xlabel='lin. approx. angle (deg)',\n",
    "            ylabel='true angle (deg)',\n",
    "            num_xticks=5)\n",
    "\n",
    "#ge.save_on_desktop(fig)"
   ]
  },
  {
   "cell_type": "markdown",
   "id": "c9710fc4",
   "metadata": {},
   "source": [
    "### Plotting the screen with its angle scales:"
   ]
  },
  {
   "cell_type": "code",
   "execution_count": null,
   "id": "d7dcae10",
   "metadata": {},
   "outputs": [],
   "source": [
    "import matplotlib.pylab as plt\n",
    "fig, ax = plt.subplots(figsize=(screen_width/20.,screen_height/20.))\n",
    "pt.draw_bar_scales(ax, Ybar=angle_to_cm(20), Xbar=angle_to_cm(20), Xbar_label='20$^o$', Ybar_label='20$^o$')\n",
    "ax.set_xlim(np.arange(-1,3,2)*screen_width/2.)\n",
    "ax.set_ylim(np.arange(-1,3,2)*screen_height/2.)\n",
    "ax.set_xlabel('x-coord (cm)')\n",
    "ax.set_ylabel('z-coord (cm)')\n",
    "ax.set_title('screen coordinates')\n",
    "#ge.save_on_desktop(fig)"
   ]
  },
  {
   "cell_type": "markdown",
   "id": "cbf1f534",
   "metadata": {},
   "source": [
    "### Screen Dimensions in terms of Angles:"
   ]
  },
  {
   "cell_type": "code",
   "execution_count": null,
   "id": "5e58a6c2",
   "metadata": {},
   "outputs": [],
   "source": [
    "print('visual field covered:')\n",
    "print('azimuth:', cm_to_angle(screen_width/2.))\n",
    "print('altitude:', cm_to_angle(screen_height/2.))"
   ]
  },
  {
   "cell_type": "markdown",
   "id": "782a0d7a",
   "metadata": {},
   "source": [
    "## 2) Plotting Visual Stimuli for Figures"
   ]
  },
  {
   "cell_type": "code",
   "execution_count": null,
   "id": "cda3f00e",
   "metadata": {},
   "outputs": [],
   "source": [
    "# start from a simple protocol to load all required data\n",
    "import json, os, sys\n",
    "import numpy as np\n",
    "import matplotlib.pylab as plt\n",
    "with open(os.path.join('..', 'src', 'physion', \n",
    "                       'acquisition', 'protocols', 'demo', \n",
    "                       'moving-dots.json')) as j:\n",
    "    protocol = json.load(j)\n",
    "    \n",
    "sys.path.append('../src')\n",
    "from physion.visual_stim.build import build_stim\n",
    "from physion.visual_stim.main import init_bg_image\n",
    "protocol['no-window'] = True\n",
    "stim = build_stim(protocol)\n",
    "\n",
    "stim_index = 0\n",
    "times = np.linspace(0.1, 3, 7)\n",
    "fig, AX = plt.subplots(1, len(times), figsize=(8,1.2))\n",
    "\n",
    "for i, t in enumerate(times):\n",
    "    AX[i].imshow(-stim.get_image(stim_index, time_from_episode_start=t).T,\n",
    "                 vmin=-1, vmax=1, cmap=plt.cm.binary)\n",
    "    AX[i].set_title('t=%.1fs' % t, fontsize=7)\n",
    "    AX[i].axis('off')"
   ]
  },
  {
   "cell_type": "markdown",
   "id": "fff08789",
   "metadata": {},
   "source": [
    "## 3) Design of New Visual Stimuli"
   ]
  },
  {
   "cell_type": "code",
   "execution_count": null,
   "id": "7fd01307",
   "metadata": {},
   "outputs": [],
   "source": [
    "# start from a simple protocol to load all required data\n",
    "import json, os\n",
    "with open(os.path.join('..', 'src', 'physion', 'acquisition', 'protocols',\n",
    "                       'demo', 'uniform-bg.json')) as j:\n",
    "    protocol = json.load(j)\n",
    "    \n",
    "from physion.visual_stim.build import build_stim #, init_bg_image\n",
    "from physion.visual_stim.main import init_bg_image\n",
    "protocol['no-window'] = True\n",
    "stim = build_stim(protocol)"
   ]
  },
  {
   "cell_type": "code",
   "execution_count": null,
   "id": "93c30ec7",
   "metadata": {},
   "outputs": [],
   "source": [
    "def compute_new_image_with_dots(self, index, dot_size, Ndots,\n",
    "                                away_from_edges_factor=4):\n",
    "    dot_size_pix = int(np.round(self.angle_to_pix(dot_size),0))\n",
    "    Nx = int(self.x.shape[0]/dot_size_pix)\n",
    "    Nz = int(self.x.shape[1]/dot_size_pix)\n",
    "    dots = []\n",
    "    img = init_bg_image(self, index)\n",
    "    for n in range(Ndots):\n",
    "        ix, iz = (np.random.choice(np.arange(away_from_edges_factor, Nx-away_from_edges_factor),1)[0],\n",
    "                  np.random.choice(range(away_from_edges_factor,Nz-away_from_edges_factor),1)[0])\n",
    "        img[dot_size_pix*ix:dot_size_pix*(ix+1),\n",
    "            dot_size_pix*iz:dot_size_pix*(iz+1)] = 1\n",
    "    return img\n",
    "        \n",
    "img = compute_new_image_with_dots(stim, 0, 5, 8)\n",
    "fig, ax = plt.subplots(1, figsize=(4,4))\n",
    "ax.imshow(img.T, origin='lower', cmap=plt.cm.gray)\n",
    "#ax.axis('off')"
   ]
  },
  {
   "cell_type": "code",
   "execution_count": null,
   "id": "1ed48c7e",
   "metadata": {},
   "outputs": [],
   "source": [
    "fig, ax = plt.subplots(1, figsize=(4,4))\n",
    "radius = 20\n",
    "img = init_bg_image(stim, 0)\n",
    "img += np.exp(-(stim.x**2+stim.z**2)/2/radius**2)\n",
    "ax.imshow(img.T, origin='lower', cmap=plt.cm.gray)\n",
    "#ax.axis('off')"
   ]
  },
  {
   "cell_type": "code",
   "execution_count": null,
   "id": "c77b63f9",
   "metadata": {},
   "outputs": [],
   "source": []
  }
 ],
 "metadata": {
  "jupytext": {
   "formats": "ipynb,py:percent"
  },
  "kernelspec": {
   "display_name": "Python 3 (ipykernel)",
   "language": "python",
   "name": "python3"
  }
 },
 "nbformat": 4,
 "nbformat_minor": 5
}
